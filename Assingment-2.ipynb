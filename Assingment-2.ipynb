{
 "cells": [
  {
   "cell_type": "code",
   "execution_count": 29,
   "metadata": {},
   "outputs": [
    {
     "name": "stdout",
     "output_type": "stream",
     "text": [
      "{'1': 'Pazartesi', '2': 'Salı', '3': 'Çarşamba', '4': 'Perşembe', '5': 'Cuma', '6': 'Cumartesi', '7': 'Pazar'}\n",
      "Lütfen silinmesini istediğiniz iki gün seçiniz: 46\n",
      "{'1': 'Pazartesi', '2': 'Salı', '3': 'Çarşamba', '5': 'Cuma', '7': 'Pazar'}\n"
     ]
    }
   ],
   "source": [
    "#ÖDEV1\n",
    "gunler = {\"1\": \"Pazartesi\",\n",
    "         \"2\": \"Salı\",\n",
    "         \"3\": \"Çarşamba\",\n",
    "         \"4\": \"Perşembe\",\n",
    "         \"5\": \"Cuma\",\n",
    "         \"6\": \"Cumartesi\",\n",
    "         \"7\": \"Pazar\"}\n",
    "print(gunler)\n",
    "gun1 = input(\"Lütfen silinmesini istediğiniz iki gün seçiniz: \")\n",
    "\n",
    "del gunler[gun1[0]]\n",
    "del gunler[gun1[1]]\n",
    "print(gunler)"
   ]
  },
  {
   "cell_type": "code",
   "execution_count": 36,
   "metadata": {},
   "outputs": [
    {
     "name": "stdout",
     "output_type": "stream",
     "text": [
      "[('ocak', 31), ('şubat', 28), ('mart', 31), ('nisan', 30), ('mayıs', 31), ('haziran', 30), ('temmuz', 31), ('ağustos', 31), ('eylül', 30), ('ekim', 31), ('kasım', 30), ('aralık', 31)]\n"
     ]
    }
   ],
   "source": [
    "#ÖDEV2\n",
    "aylar={'ocak': 31,\n",
    "      'şubat': 28,\n",
    "      'mart': 31,\n",
    "      'nisan': 30,\n",
    "      'mayıs': 31,\n",
    "      'haziran': 30,\n",
    "      'temmuz': 31,\n",
    "      'ağustos': 31,\n",
    "      'eylül': 30,\n",
    "      'ekim': 31,\n",
    "      'kasım': 30,\n",
    "      'aralık': 31}\n",
    "print(list(aylar.items()))\n"
   ]
  },
  {
   "cell_type": "code",
   "execution_count": 73,
   "metadata": {},
   "outputs": [
    {
     "name": "stdout",
     "output_type": "stream",
     "text": [
      "[['31 çeken aylar: ', ('ocak', 31), ('mart', 31), ('mayıs', 31), ('temmuz', 31), ('ağustos', 31), ('ekim', 31), ('aralık', 31)], ['30 çeken aylar: ', ('nisan', 30), ('haziran', 30), ('eylül', 30), ('kasım', 30)], ['28 çeken ay: ', ('şubat', 28)]]\n"
     ]
    }
   ],
   "source": [
    "#ÖDEV3\n",
    "a=list(aylar.items())\n",
    "b=['31 çeken aylar: ', a[0], a[2], a[4], a[6], a[7], a[9], a[11] ]\n",
    "c=['30 çeken aylar: ', a[3], a[5], a[8], a[10]]\n",
    "d=['28 çeken ay: ', a[1]]\n",
    "e=[b, c, d]\n",
    "print(e)"
   ]
  },
  {
   "cell_type": "code",
   "execution_count": 74,
   "metadata": {},
   "outputs": [
    {
     "name": "stdout",
     "output_type": "stream",
     "text": [
      "[[('mart', 31), ('nisan', 30), ('mayıs', 31)], [('haziran', 30), ('temmuz', 31), ('ağustos', 31)], [('eylül', 30), ('ekim', 31), ('kasım', 30)], [('aralık', 31), ('ocak', 31), ('şubat', 28)]]\n"
     ]
    }
   ],
   "source": [
    "#ÖDEV4\n",
    "ilkbahar=[a[2], a[3], a[4]]\n",
    "yaz=[a[5], a[6], a[7]]\n",
    "sonbahar=[a[8], a[9], a[10]]\n",
    "kis=[a[11], a[0], a[1]]\n",
    "mevsimler=[ilkbahar, yaz, sonbahar, kis]\n",
    "print(mevsimler)"
   ]
  },
  {
   "cell_type": "code",
   "execution_count": 82,
   "metadata": {},
   "outputs": [
    {
     "name": "stdout",
     "output_type": "stream",
     "text": [
      "92\n"
     ]
    }
   ],
   "source": [
    "#ödev5\n",
    "f=dict(yaz)\n",
    "g=f.values()\n",
    "h=sum(g)\n",
    "print(h)"
   ]
  },
  {
   "cell_type": "code",
   "execution_count": null,
   "metadata": {},
   "outputs": [],
   "source": []
  }
 ],
 "metadata": {
  "kernelspec": {
   "display_name": "Python 3",
   "language": "python",
   "name": "python3"
  },
  "language_info": {
   "codemirror_mode": {
    "name": "ipython",
    "version": 3
   },
   "file_extension": ".py",
   "mimetype": "text/x-python",
   "name": "python",
   "nbconvert_exporter": "python",
   "pygments_lexer": "ipython3",
   "version": "3.7.3"
  }
 },
 "nbformat": 4,
 "nbformat_minor": 2
}
