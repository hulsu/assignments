{
 "cells": [
  {
   "cell_type": "code",
   "execution_count": 2,
   "metadata": {},
   "outputs": [],
   "source": [
    "import pandas as pd"
   ]
  },
  {
   "cell_type": "code",
   "execution_count": 3,
   "metadata": {},
   "outputs": [],
   "source": [
    "import numpy as np"
   ]
  },
  {
   "cell_type": "code",
   "execution_count": 4,
   "metadata": {},
   "outputs": [],
   "source": [
    "import warnings\n",
    "warnings.filterwarnings('ignore')"
   ]
  },
  {
   "cell_type": "code",
   "execution_count": 74,
   "metadata": {},
   "outputs": [
    {
     "data": {
      "text/html": [
       "<div>\n",
       "<style scoped>\n",
       "    .dataframe tbody tr th:only-of-type {\n",
       "        vertical-align: middle;\n",
       "    }\n",
       "\n",
       "    .dataframe tbody tr th {\n",
       "        vertical-align: top;\n",
       "    }\n",
       "\n",
       "    .dataframe thead th {\n",
       "        text-align: right;\n",
       "    }\n",
       "</style>\n",
       "<table border=\"1\" class=\"dataframe\">\n",
       "  <thead>\n",
       "    <tr style=\"text-align: right;\">\n",
       "      <th></th>\n",
       "      <th>asal</th>\n",
       "      <th>fibonacci</th>\n",
       "    </tr>\n",
       "    <tr>\n",
       "      <th>Harfler</th>\n",
       "      <th></th>\n",
       "      <th></th>\n",
       "    </tr>\n",
       "  </thead>\n",
       "  <tbody>\n",
       "    <tr>\n",
       "      <th>a</th>\n",
       "      <td>2</td>\n",
       "      <td>0</td>\n",
       "    </tr>\n",
       "    <tr>\n",
       "      <th>b</th>\n",
       "      <td>3</td>\n",
       "      <td>0</td>\n",
       "    </tr>\n",
       "    <tr>\n",
       "      <th>c</th>\n",
       "      <td>5</td>\n",
       "      <td>1</td>\n",
       "    </tr>\n",
       "    <tr>\n",
       "      <th>d</th>\n",
       "      <td>7</td>\n",
       "      <td>1</td>\n",
       "    </tr>\n",
       "    <tr>\n",
       "      <th>e</th>\n",
       "      <td>11</td>\n",
       "      <td>2</td>\n",
       "    </tr>\n",
       "    <tr>\n",
       "      <th>f</th>\n",
       "      <td>13</td>\n",
       "      <td>3</td>\n",
       "    </tr>\n",
       "    <tr>\n",
       "      <th>g</th>\n",
       "      <td>17</td>\n",
       "      <td>5</td>\n",
       "    </tr>\n",
       "    <tr>\n",
       "      <th>h</th>\n",
       "      <td>19</td>\n",
       "      <td>8</td>\n",
       "    </tr>\n",
       "    <tr>\n",
       "      <th>i</th>\n",
       "      <td>23</td>\n",
       "      <td>13</td>\n",
       "    </tr>\n",
       "    <tr>\n",
       "      <th>j</th>\n",
       "      <td>29</td>\n",
       "      <td>21</td>\n",
       "    </tr>\n",
       "  </tbody>\n",
       "</table>\n",
       "</div>"
      ],
      "text/plain": [
       "         asal  fibonacci\n",
       "Harfler                 \n",
       "a           2          0\n",
       "b           3          0\n",
       "c           5          1\n",
       "d           7          1\n",
       "e          11          2\n",
       "f          13          3\n",
       "g          17          5\n",
       "h          19          8\n",
       "i          23         13\n",
       "j          29         21"
      ]
     },
     "execution_count": 74,
     "metadata": {},
     "output_type": "execute_result"
    }
   ],
   "source": [
    "#Ödev 1\n",
    "\n",
    "#İndeks ve harfleri oluşturma\n",
    "\n",
    "import string\n",
    "string.ascii_lowercase\n",
    "harf = list(string.ascii_lowercase[:10])\n",
    "\n",
    "\n",
    "tablom = pd.DataFrame(index=harf)\n",
    "tablom.index.name = 'Harfler'\n",
    "\n",
    "\n",
    "# Asal Sayıları oluşturma ve tabloya ekleme\n",
    "\n",
    "primes = []\n",
    "for possiblePrime in range(2, 100):\n",
    "    \n",
    "    isPrime = True\n",
    "    for num in range(2, possiblePrime):\n",
    "        if possiblePrime % num == 0:\n",
    "            isPrime = False\n",
    "      \n",
    "    if isPrime:\n",
    "        primes.append(possiblePrime)\n",
    "    \n",
    "primes2 = primes[0:10]\n",
    "\n",
    "\n",
    "Asals = pd.DataFrame(primes2)\n",
    "Asals\n",
    "\n",
    "tablom['asal'] = primes2\n",
    "\n",
    "\n",
    "# Fibonacci sayılarını oluşturma ve tabloya ekleme\n",
    "\n",
    "a = 0\n",
    "b = 1\n",
    "Next = 0\n",
    "\n",
    "fibonacci = []\n",
    "\n",
    "for Num in range(0, 100):\n",
    "    if Next > 100:\n",
    "        break\n",
    "    else:\n",
    "        fibonacci.append(Next)\n",
    "\n",
    "    if(Num <= 1):\n",
    "            Next = Num\n",
    "    else:\n",
    "            Next = a + b\n",
    "            a = b\n",
    "            b = Next\n",
    "fibonacci2 = fibonacci[0:10]\n",
    "\n",
    "tablom['fibonacci'] = fibonacci2\n",
    "tablom\n",
    "\n",
    "# istiklal marşı & kapanış \n",
    "# yapmakta zorlandığım şey ilk 10'u almak oldu, o yüzden hep list2 ler yaptım [0:10] şeklinde. eminim daha kolayı\n",
    "#vardır"
   ]
  },
  {
   "cell_type": "code",
   "execution_count": 75,
   "metadata": {},
   "outputs": [
    {
     "ename": "SyntaxError",
     "evalue": "invalid syntax (<ipython-input-75-5bd42c35ba8c>, line 1)",
     "output_type": "error",
     "traceback": [
      "\u001b[0;36m  File \u001b[0;32m\"<ipython-input-75-5bd42c35ba8c>\"\u001b[0;36m, line \u001b[0;32m1\u001b[0m\n\u001b[0;31m    kaggle competitions download -c titanic\u001b[0m\n\u001b[0m                      ^\u001b[0m\n\u001b[0;31mSyntaxError\u001b[0m\u001b[0;31m:\u001b[0m invalid syntax\n"
     ]
    }
   ],
   "source": [
    "kaggle competitions download -c titanic"
   ]
  },
  {
   "cell_type": "code",
   "execution_count": 6,
   "metadata": {},
   "outputs": [
    {
     "data": {
      "text/plain": [
       "Sex\n",
       "female    27.915709\n",
       "male      30.726645\n",
       "Name: Age, dtype: float64"
      ]
     },
     "execution_count": 6,
     "metadata": {},
     "output_type": "execute_result"
    }
   ],
   "source": [
    "# Ödev 2\n",
    "\n",
    "df = pd.read_csv('train.csv', index_col=0)\n",
    "\n",
    "df.groupby(by='Sex').mean()['Age']\n",
    "\n"
   ]
  },
  {
   "cell_type": "code",
   "execution_count": 68,
   "metadata": {},
   "outputs": [
    {
     "data": {
      "text/plain": [
       "Sex     Survived\n",
       "female  1           233\n",
       "        0            81\n",
       "male    0           468\n",
       "        1           109\n",
       "Name: Survived, dtype: int64"
      ]
     },
     "execution_count": 68,
     "metadata": {},
     "output_type": "execute_result"
    }
   ],
   "source": [
    "#Ödev 3\n",
    "\n",
    "# istediğim gibi sonuç alamıyorum, doğrudan yüzde nasıl alırım yapamadım :/\n",
    "\n",
    "train = pd.read_csv('train.csv', index_col=0)\n",
    "\n",
    "df = train[train['Age'] < 30.0]\n",
    "\n",
    "df[\"Survived\"].value_counts()\n",
    "\n",
    "dx = train.groupby('Sex')\n",
    "\n",
    "dx[\"Survived\"].value_counts()\n",
    "\n",
    "\n",
    "\n",
    "\n"
   ]
  }
 ],
 "metadata": {
  "kernelspec": {
   "display_name": "Python 3",
   "language": "python",
   "name": "python3"
  },
  "language_info": {
   "codemirror_mode": {
    "name": "ipython",
    "version": 3
   },
   "file_extension": ".py",
   "mimetype": "text/x-python",
   "name": "python",
   "nbconvert_exporter": "python",
   "pygments_lexer": "ipython3",
   "version": "3.7.3"
  }
 },
 "nbformat": 4,
 "nbformat_minor": 2
}
