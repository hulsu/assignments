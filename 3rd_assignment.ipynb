{
 "cells": [
  {
   "cell_type": "code",
   "execution_count": null,
   "metadata": {},
   "outputs": [],
   "source": [
    "#Ödev 1\n",
    "while(True):\n",
    "    print(\"Lütfen çevirmek istediğiniz rakamı türü ile birlikte girin, örn: 20F veya 10C gibi\")\n",
    "    \n",
    "    secim = str(input())\n",
    "    if secim[-1] == \"F\":\n",
    "        result = str((5/9)*((float(secim[0:-1])-32)))\n",
    "        print(\"Sonuç: \", result)\n",
    "    elif secim [-1] == \"C\":\n",
    "        result = str((9/5*(float(secim[0:-1])))+32)\n",
    "        print(\"Sonuç: \", result)\n",
    "    else:\n",
    "        print(\"Hatalı bir değer girdiniz.\")"
   ]
  },
  {
   "cell_type": "code",
   "execution_count": null,
   "metadata": {},
   "outputs": [],
   "source": [
    "#Ödev 2\n",
    "\n",
    "while True:\n",
    "\n",
    "    a = input('Lütfen bir kelime giriniz: ')\n",
    "    print(str(a[::-1]))"
   ]
  },
  {
   "cell_type": "code",
   "execution_count": null,
   "metadata": {},
   "outputs": [],
   "source": [
    "#Ödev 3\n",
    "a = 0\n",
    "b = 1\n",
    "\n",
    "for Num in range(0, 51):\n",
    "            if(Num <= 1):\n",
    "                    Next = Num\n",
    "            else:\n",
    "                    Next = a + b\n",
    "                    a = b\n",
    "                    b = Next\n",
    "            print(Next)"
   ]
  },
  {
   "cell_type": "code",
   "execution_count": null,
   "metadata": {},
   "outputs": [],
   "source": [
    "#Ödev 4\n",
    "\n",
    "i = int(input('Lütfen bir sayı giriniz: '))\n",
    "\n",
    "for x in range(1,11):\n",
    "    print(i, 'x', x, '=', i*x)"
   ]
  },
  {
   "cell_type": "code",
   "execution_count": null,
   "metadata": {},
   "outputs": [],
   "source": [
    "#Ödev 5\n",
    "\n",
    "my_list = [x**3 if x % 2 == 0 else x**2 for x in range(1,20)]\n",
    "print(my_list)"
   ]
  }
 ],
 "metadata": {
  "kernelspec": {
   "display_name": "Python 3",
   "language": "python",
   "name": "python3"
  },
  "language_info": {
   "codemirror_mode": {
    "name": "ipython",
    "version": 3
   },
   "file_extension": ".py",
   "mimetype": "text/x-python",
   "name": "python",
   "nbconvert_exporter": "python",
   "pygments_lexer": "ipython3",
   "version": "3.7.3"
  }
 },
 "nbformat": 4,
 "nbformat_minor": 2
}
