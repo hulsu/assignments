{
 "cells": [
  {
   "cell_type": "code",
   "execution_count": 56,
   "metadata": {},
   "outputs": [
    {
     "name": "stdout",
     "output_type": "stream",
     "text": [
      "satir 1: Yavaş yavaş ölürler\n",
      "satir 2: Seyahat etmeyenler,\n",
      "satir 3: Yavaş yavaş ölürler okumayanlar,\n",
      "satir 4: müzik dinlemeyenler,\n",
      "satir 5: vicdanlarında hoş görmeyi barındırmayanlar.\n",
      "satir 6: Yavaş yavaş ölürler,\n",
      "satir 7: İzzetinefislerini yıkanlar\n",
      "satir 8: Hiçbir zaman yardım istemeyenler.\n",
      "satir 9: Yavaş yavaş ölürler\n",
      "satir 10: Alışkanlıklara esir olanlar,\n",
      "satir 11: her gün aynı yolları yürüyenler,\n",
      "satir 12: Ufuklarını genişletmeyen ve\n",
      "satir 13: değiştirmeyenler,\n",
      "satir 14: Elbiselerinin rengini değiştirme riskine bile girmeyen,\n",
      "satir 15: veya bir yabancı ile konuşmayanlar.\n",
      "satir 16: Yavaş yavaş ölürler\n",
      "satir 17: İhtiraslardan ve verdikleri heyecanlardan kaçınanlar,\n",
      "satir 18: tamir edilen kırık kalplerin gözlerindeki pırıltıyı\n",
      "satir 19: görmek istemekten kaçınanlar\n",
      "satir 20: yavaş yavaş ölürler.\n",
      "satir 21: Yavaş yavaş ölürler\n",
      "satir 22: Aşkta veya işte bedbaht olup istikamet değiştirmeyenler,\n",
      "satir 23: Rüyalarını gerçekleştirmek için risk almayanlar,\n",
      "satir 24: Hayatlarında bir kez dahi mantıklı tavsiyelerin\n",
      "satir 25: dışına çıkmamış olanlar.\n",
      "satir 26: Yavaş yavaş ölürler.\n",
      "Yavaş\n",
      "Seyahat\n",
      "Yavaş\n",
      "müzik\n",
      "vicdanlarında\n",
      "Yavaş\n",
      "İzzetinefislerini\n",
      "Hiçbir\n",
      "Yavaş\n",
      "Alışkanlıklara\n",
      "her\n",
      "Ufuklarını\n",
      "değiştirmeyenler,\n",
      "Elbiselerinin\n",
      "veya\n",
      "Yavaş\n",
      "İhtiraslardan\n",
      "tamir\n",
      "görmek\n",
      "yavaş\n",
      "Yavaş\n",
      "Aşkta\n",
      "Rüyalarını\n",
      "Hayatlarında\n",
      "dışına\n",
      "Yavaş\n"
     ]
    }
   ],
   "source": [
    "#Ödev 1\n",
    "\n",
    "# bu soruda tek sıkıntım satırlar arası boşluk olduğunda oldu, sinirlendim ve gittim dosyadan elle sildim :D \n",
    "# ama boşluk olsaydı nasıl yapardık diye soracağım. yani split() boşluk görünce duruyor, eleman olmadığı için. \n",
    "# devam etmiyor yazmaya ilk kelimeleri\n",
    "\n",
    "with open('neruda.txt') as f:  \n",
    "        line = f.readline()\n",
    "        cnt = 1\n",
    "        while line:\n",
    "            print(\"satir {}: {}\".format(cnt, line.strip()))\n",
    "            line = f.readline()\n",
    "            cnt += 1\n",
    "            \n",
    "with open ('neruda.txt', 'r') as f:\n",
    "    lines = f.readlines()\n",
    "f = open('neruda_2.txt', 'a')\n",
    "for line in lines:\n",
    "    words= line.split()\n",
    "    print(words[0])"
   ]
  },
  {
   "cell_type": "code",
   "execution_count": 79,
   "metadata": {},
   "outputs": [
    {
     "data": {
      "text/plain": [
       "'15 asal sayi degildir'"
      ]
     },
     "execution_count": 79,
     "metadata": {},
     "output_type": "execute_result"
    }
   ],
   "source": [
    "# Ödev 2\n",
    "\n",
    "#bunu da while ile döngüye soktuğumda inputla birlikte hata aldım.\n",
    "\n",
    "def test_prime(n):\n",
    "        if (n==1):\n",
    "            return str(n) + \" asal sayi degildir\";\n",
    "        elif (n==2):\n",
    "            return str(n) + \" asal sayidir\";\n",
    "        else:\n",
    "            for x in range(2,n):\n",
    "                if(n % x==0):\n",
    "                    return str(n) + \" asal sayi degildir\";\n",
    "            return str(n) + \" asal sayidir\"\n",
    "test_prime(15)\n",
    "\n",
    "\n"
   ]
  },
  {
   "cell_type": "code",
   "execution_count": 83,
   "metadata": {},
   "outputs": [
    {
     "data": {
      "text/plain": [
       "[1, 2, 3, 4, 5, 6, 7]"
      ]
     },
     "execution_count": 83,
     "metadata": {},
     "output_type": "execute_result"
    }
   ],
   "source": [
    "# Ödev 3\n",
    "\n",
    "# yeni bir liste oluşturarak döndür demişsin ama uniq değerleri nasıl bırakacağımı anlamadım \n",
    "# ve sözlük olarak bastım \n",
    "\n",
    "def uniq_liste(x):\n",
    "    return list(dict.fromkeys(x))\n",
    "\n",
    "uniq_liste([1,2,2,3,3,4,5,6,7,7])\n"
   ]
  },
  {
   "cell_type": "code",
   "execution_count": 93,
   "metadata": {},
   "outputs": [
    {
     "name": "stdout",
     "output_type": "stream",
     "text": [
      "30 years\n"
     ]
    }
   ],
   "source": [
    "# Ödev 4\n",
    "\n",
    "from datetime import date \n",
    "  \n",
    "def calculateAge(birthDate): \n",
    "    days_in_year = 365.2425    \n",
    "    age = int((date.today() - birthDate).days / days_in_year) \n",
    "    return age \n",
    "          \n",
    "print(calculateAge(date(1989, 4, 14)), \"years\")\n"
   ]
  },
  {
   "cell_type": "code",
   "execution_count": null,
   "metadata": {},
   "outputs": [],
   "source": []
  }
 ],
 "metadata": {
  "kernelspec": {
   "display_name": "Python 3",
   "language": "python",
   "name": "python3"
  },
  "language_info": {
   "codemirror_mode": {
    "name": "ipython",
    "version": 3
   },
   "file_extension": ".py",
   "mimetype": "text/x-python",
   "name": "python",
   "nbconvert_exporter": "python",
   "pygments_lexer": "ipython3",
   "version": "3.7.3"
  }
 },
 "nbformat": 4,
 "nbformat_minor": 2
}
