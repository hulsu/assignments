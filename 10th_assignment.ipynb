{
 "cells": [
  {
   "cell_type": "code",
   "execution_count": 46,
   "metadata": {},
   "outputs": [
    {
     "data": {
      "image/png": "[encoded data removed]",
      "text/plain": [
       "<Figure size 500x200 with 1 Axes>"
      ]
     },
     "metadata": {
      "needs_background": "light"
     },
     "output_type": "display_data"
    }
   ],
   "source": [
    "#ÖDEV 1\n",
    "\n",
    "import pandas as pd\n",
    "import matplotlib.pyplot as plt\n",
    "\n",
    "\n",
    "plt.figure(figsize=(5,2), dpi = 100)\n",
    "dagilim =  np.random.normal(20, 0.8, 500)\n",
    "plt.hist(dagilim)\n",
    "plt.show()\n",
    "\n",
    "\n",
    "\n"
   ]
  },
  {
   "cell_type": "code",
   "execution_count": 52,
   "metadata": {},
   "outputs": [
    {
     "data": {
      "image/png": "[encoded data removed]",
      "text/plain": [
       "<Figure size 500x200 with 1 Axes>"
      ]
     },
     "metadata": {
      "needs_background": "light"
     },
     "output_type": "display_data"
    }
   ],
   "source": [
    "plt.figure(figsize=(5,2), dpi = 100)\n",
    "\n",
    "ikinci_dagilim = np.random.normal(50, 200, 500)\n",
    "\n",
    "dagilim.sort()\n",
    "ikinci_dagilim.sort()\n",
    "\n",
    "plt.plot(dagilim, ikinci_dagilim, \"o\")\n",
    "plt.ylabel('Dağılım') \n",
    "plt.xlabel('İkinci Dağılım')\n",
    "\n",
    "plt.plot([np.min(dagilim), np.max(dagilim)],\n",
    "         [np.min(ikinci_dagilim), np.max(ikinci_dagilim)], c='red')\n",
    "plt.show()\n",
    "\n",
    "#sola çarpık dağılım oluştu, yeniledikçe değerleri grafik farklılaşıyo :)"
   ]
  },
  {
   "cell_type": "code",
   "execution_count": 55,
   "metadata": {},
   "outputs": [
    {
     "data": {
      "text/html": [
       "<div>\n",
       "<style scoped>\n",
       "    .dataframe tbody tr th:only-of-type {\n",
       "        vertical-align: middle;\n",
       "    }\n",
       "\n",
       "    .dataframe tbody tr th {\n",
       "        vertical-align: top;\n",
       "    }\n",
       "\n",
       "    .dataframe thead th {\n",
       "        text-align: right;\n",
       "    }\n",
       "</style>\n",
       "<table border=\"1\" class=\"dataframe\">\n",
       "  <thead>\n",
       "    <tr style=\"text-align: right;\">\n",
       "      <th></th>\n",
       "      <th>Date</th>\n",
       "      <th>Open</th>\n",
       "      <th>High</th>\n",
       "      <th>Low</th>\n",
       "      <th>Close</th>\n",
       "      <th>Adj Close</th>\n",
       "      <th>Volume</th>\n",
       "    </tr>\n",
       "  </thead>\n",
       "  <tbody>\n",
       "    <tr>\n",
       "      <th>0</th>\n",
       "      <td>2014-12-31</td>\n",
       "      <td>537.739990</td>\n",
       "      <td>538.400024</td>\n",
       "      <td>530.200012</td>\n",
       "      <td>530.659973</td>\n",
       "      <td>530.659973</td>\n",
       "      <td>1232400</td>\n",
       "    </tr>\n",
       "    <tr>\n",
       "      <th>1</th>\n",
       "      <td>2015-01-02</td>\n",
       "      <td>532.599976</td>\n",
       "      <td>535.799988</td>\n",
       "      <td>527.880005</td>\n",
       "      <td>529.549988</td>\n",
       "      <td>529.549988</td>\n",
       "      <td>1324000</td>\n",
       "    </tr>\n",
       "    <tr>\n",
       "      <th>2</th>\n",
       "      <td>2015-01-05</td>\n",
       "      <td>527.150024</td>\n",
       "      <td>527.989990</td>\n",
       "      <td>517.750000</td>\n",
       "      <td>519.460022</td>\n",
       "      <td>519.460022</td>\n",
       "      <td>2059100</td>\n",
       "    </tr>\n",
       "    <tr>\n",
       "      <th>3</th>\n",
       "      <td>2015-01-06</td>\n",
       "      <td>520.500000</td>\n",
       "      <td>521.210022</td>\n",
       "      <td>505.549988</td>\n",
       "      <td>506.640015</td>\n",
       "      <td>506.640015</td>\n",
       "      <td>2722800</td>\n",
       "    </tr>\n",
       "    <tr>\n",
       "      <th>4</th>\n",
       "      <td>2015-01-07</td>\n",
       "      <td>510.950012</td>\n",
       "      <td>511.489990</td>\n",
       "      <td>503.649994</td>\n",
       "      <td>505.149994</td>\n",
       "      <td>505.149994</td>\n",
       "      <td>2345900</td>\n",
       "    </tr>\n",
       "  </tbody>\n",
       "</table>\n",
       "</div>"
      ],
      "text/plain": [
       "         Date        Open        High         Low       Close   Adj Close  \\\n",
       "0  2014-12-31  537.739990  538.400024  530.200012  530.659973  530.659973   \n",
       "1  2015-01-02  532.599976  535.799988  527.880005  529.549988  529.549988   \n",
       "2  2015-01-05  527.150024  527.989990  517.750000  519.460022  519.460022   \n",
       "3  2015-01-06  520.500000  521.210022  505.549988  506.640015  506.640015   \n",
       "4  2015-01-07  510.950012  511.489990  503.649994  505.149994  505.149994   \n",
       "\n",
       "    Volume  \n",
       "0  1232400  \n",
       "1  1324000  \n",
       "2  2059100  \n",
       "3  2722800  \n",
       "4  2345900  "
      ]
     },
     "execution_count": 55,
     "metadata": {},
     "output_type": "execute_result"
    }
   ],
   "source": [
    "#ÖDEV 2\n",
    "#soruyu yapamadım :(\n",
    "\n",
    "df = pd.read_csv('GOOGL.csv')\n",
    "df.head()"
   ]
  },
  {
   "cell_type": "code",
   "execution_count": 62,
   "metadata": {},
   "outputs": [
    {
     "data": {
      "text/html": [
       "<div>\n",
       "<style scoped>\n",
       "    .dataframe tbody tr th:only-of-type {\n",
       "        vertical-align: middle;\n",
       "    }\n",
       "\n",
       "    .dataframe tbody tr th {\n",
       "        vertical-align: top;\n",
       "    }\n",
       "\n",
       "    .dataframe thead th {\n",
       "        text-align: right;\n",
       "    }\n",
       "</style>\n",
       "<table border=\"1\" class=\"dataframe\">\n",
       "  <thead>\n",
       "    <tr style=\"text-align: right;\">\n",
       "      <th></th>\n",
       "      <th>Date</th>\n",
       "      <th>Open</th>\n",
       "      <th>High</th>\n",
       "      <th>Low</th>\n",
       "      <th>Close</th>\n",
       "      <th>Adj Close</th>\n",
       "      <th>Volume</th>\n",
       "    </tr>\n",
       "  </thead>\n",
       "  <tbody>\n",
       "    <tr>\n",
       "      <th>0</th>\n",
       "      <td>2014-12-31</td>\n",
       "      <td>537.739990</td>\n",
       "      <td>538.400024</td>\n",
       "      <td>530.200012</td>\n",
       "      <td>530.659973</td>\n",
       "      <td>530.659973</td>\n",
       "      <td>1232400</td>\n",
       "    </tr>\n",
       "    <tr>\n",
       "      <th>1</th>\n",
       "      <td>2015-01-02</td>\n",
       "      <td>532.599976</td>\n",
       "      <td>535.799988</td>\n",
       "      <td>527.880005</td>\n",
       "      <td>529.549988</td>\n",
       "      <td>529.549988</td>\n",
       "      <td>1324000</td>\n",
       "    </tr>\n",
       "    <tr>\n",
       "      <th>2</th>\n",
       "      <td>2015-01-05</td>\n",
       "      <td>527.150024</td>\n",
       "      <td>527.989990</td>\n",
       "      <td>517.750000</td>\n",
       "      <td>519.460022</td>\n",
       "      <td>519.460022</td>\n",
       "      <td>2059100</td>\n",
       "    </tr>\n",
       "    <tr>\n",
       "      <th>3</th>\n",
       "      <td>2015-01-06</td>\n",
       "      <td>520.500000</td>\n",
       "      <td>521.210022</td>\n",
       "      <td>505.549988</td>\n",
       "      <td>506.640015</td>\n",
       "      <td>506.640015</td>\n",
       "      <td>2722800</td>\n",
       "    </tr>\n",
       "    <tr>\n",
       "      <th>4</th>\n",
       "      <td>2015-01-07</td>\n",
       "      <td>510.950012</td>\n",
       "      <td>511.489990</td>\n",
       "      <td>503.649994</td>\n",
       "      <td>505.149994</td>\n",
       "      <td>505.149994</td>\n",
       "      <td>2345900</td>\n",
       "    </tr>\n",
       "  </tbody>\n",
       "</table>\n",
       "</div>"
      ],
      "text/plain": [
       "        Date        Open        High         Low       Close   Adj Close  \\\n",
       "0 2014-12-31  537.739990  538.400024  530.200012  530.659973  530.659973   \n",
       "1 2015-01-02  532.599976  535.799988  527.880005  529.549988  529.549988   \n",
       "2 2015-01-05  527.150024  527.989990  517.750000  519.460022  519.460022   \n",
       "3 2015-01-06  520.500000  521.210022  505.549988  506.640015  506.640015   \n",
       "4 2015-01-07  510.950012  511.489990  503.649994  505.149994  505.149994   \n",
       "\n",
       "    Volume  \n",
       "0  1232400  \n",
       "1  1324000  \n",
       "2  2059100  \n",
       "3  2722800  \n",
       "4  2345900  "
      ]
     },
     "execution_count": 62,
     "metadata": {},
     "output_type": "execute_result"
    }
   ],
   "source": [
    "df['Date'] = pd.to_datetime(df.Date)\n",
    "df.head()"
   ]
  },
  {
   "cell_type": "code",
   "execution_count": 66,
   "metadata": {},
   "outputs": [
    {
     "data": {
      "text/plain": [
       "Date         datetime64[ns]\n",
       "Open                float64\n",
       "High                float64\n",
       "Low                 float64\n",
       "Close               float64\n",
       "Adj Close           float64\n",
       "Volume                int64\n",
       "dtype: object"
      ]
     },
     "execution_count": 66,
     "metadata": {},
     "output_type": "execute_result"
    }
   ],
   "source": [
    "df.dtypes"
   ]
  },
  {
   "cell_type": "code",
   "execution_count": 68,
   "metadata": {},
   "outputs": [
    {
     "data": {
      "text/plain": [
       "Date\n",
       "2014       537.739990\n",
       "2015    156251.289947\n",
       "2016    192440.270029\n",
       "2017    235803.110168\n",
       "Name: Open, dtype: float64"
      ]
     },
     "execution_count": 68,
     "metadata": {},
     "output_type": "execute_result"
    }
   ],
   "source": [
    "df.groupby(df.Date.dt.year).sum()['Open']"
   ]
  },
  {
   "cell_type": "code",
   "execution_count": 69,
   "metadata": {},
   "outputs": [
    {
     "data": {
      "image/png": "[encoded data removed]",
      "text/plain": [
       "<Figure size 432x288 with 1 Axes>"
      ]
     },
     "metadata": {
      "needs_background": "light"
     },
     "output_type": "display_data"
    }
   ],
   "source": []
  },
  {
   "cell_type": "code",
   "execution_count": null,
   "metadata": {},
   "outputs": [],
   "source": []
  }
 ],
 "metadata": {
  "kernelspec": {
   "display_name": "Python 3",
   "language": "python",
   "name": "python3"
  },
  "language_info": {
   "codemirror_mode": {
    "name": "ipython",
    "version": 3
   },
   "file_extension": ".py",
   "mimetype": "text/x-python",
   "name": "python",
   "nbconvert_exporter": "python",
   "pygments_lexer": "ipython3",
   "version": "3.7.3"
  }
 },
 "nbformat": 4,
 "nbformat_minor": 2
}
